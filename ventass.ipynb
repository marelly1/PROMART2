{
 "cells": [
  {
   "cell_type": "markdown",
   "metadata": {},
   "source": [
    "<b><h1>1.\tComprensión del negocio: </h1></b>"
   ]
  },
  {
   "cell_type": "markdown",
   "metadata": {},
   "source": [
    "Una tienda por departamento necesita conocer cuántos productos van a requerir cada inicio de semana, tomando como referencia las ventas en cada uno de sus departamentos, para de esta manera poder solicitar una cantidad específica de productos a sus proveedores, y éstos a su vez podrán cubrir nuestro pedido de manera oportuna y eficiente."
   ]
  },
  {
   "cell_type": "markdown",
   "metadata": {},
   "source": [
    "<b><h1>2.\tComprensión de los datos </h1></b>"
   ]
  },
  {
   "cell_type": "code",
   "execution_count": 174,
   "metadata": {},
   "outputs": [],
   "source": [
    "import pandas as pd\n",
    "#import seaborn as sns\n",
    "import matplotlib.pyplot as plt\n",
    "from datetime import datetime\n",
    "\n",
    "%matplotlib inline"
   ]
  },
  {
   "cell_type": "code",
   "execution_count": 175,
   "metadata": {},
   "outputs": [
    {
     "data": {
      "text/html": [
       "<div>\n",
       "<style scoped>\n",
       "    .dataframe tbody tr th:only-of-type {\n",
       "        vertical-align: middle;\n",
       "    }\n",
       "\n",
       "    .dataframe tbody tr th {\n",
       "        vertical-align: top;\n",
       "    }\n",
       "\n",
       "    .dataframe thead th {\n",
       "        text-align: right;\n",
       "    }\n",
       "</style>\n",
       "<table border=\"1\" class=\"dataframe\">\n",
       "  <thead>\n",
       "    <tr style=\"text-align: right;\">\n",
       "      <th></th>\n",
       "      <th>Tienda</th>\n",
       "      <th>Fecha_venta</th>\n",
       "      <th>Dia_feriado</th>\n",
       "      <th>Temperatura</th>\n",
       "      <th>Costo_combustible</th>\n",
       "      <th>Indice_price_consumidor</th>\n",
       "      <th>Venta_por_semana</th>\n",
       "    </tr>\n",
       "  </thead>\n",
       "  <tbody>\n",
       "    <tr>\n",
       "      <th>0</th>\n",
       "      <td>1</td>\n",
       "      <td>05/02/2010</td>\n",
       "      <td>0</td>\n",
       "      <td>42.31</td>\n",
       "      <td>2.572</td>\n",
       "      <td>211.096358</td>\n",
       "      <td>1643690.90</td>\n",
       "    </tr>\n",
       "    <tr>\n",
       "      <th>1</th>\n",
       "      <td>1</td>\n",
       "      <td>12/02/2010</td>\n",
       "      <td>1</td>\n",
       "      <td>38.51</td>\n",
       "      <td>2.548</td>\n",
       "      <td>211.242170</td>\n",
       "      <td>1641957.44</td>\n",
       "    </tr>\n",
       "    <tr>\n",
       "      <th>2</th>\n",
       "      <td>1</td>\n",
       "      <td>19/02/2010</td>\n",
       "      <td>0</td>\n",
       "      <td>39.93</td>\n",
       "      <td>2.514</td>\n",
       "      <td>211.289143</td>\n",
       "      <td>1611968.17</td>\n",
       "    </tr>\n",
       "    <tr>\n",
       "      <th>3</th>\n",
       "      <td>1</td>\n",
       "      <td>26/02/2010</td>\n",
       "      <td>0</td>\n",
       "      <td>46.63</td>\n",
       "      <td>2.561</td>\n",
       "      <td>211.319643</td>\n",
       "      <td>1409727.59</td>\n",
       "    </tr>\n",
       "    <tr>\n",
       "      <th>4</th>\n",
       "      <td>1</td>\n",
       "      <td>05/03/2010</td>\n",
       "      <td>0</td>\n",
       "      <td>46.50</td>\n",
       "      <td>2.625</td>\n",
       "      <td>211.350143</td>\n",
       "      <td>1554806.68</td>\n",
       "    </tr>\n",
       "  </tbody>\n",
       "</table>\n",
       "</div>"
      ],
      "text/plain": [
       "   Tienda Fecha_venta  Dia_feriado  Temperatura  Costo_combustible  \\\n",
       "0       1  05/02/2010            0        42.31              2.572   \n",
       "1       1  12/02/2010            1        38.51              2.548   \n",
       "2       1  19/02/2010            0        39.93              2.514   \n",
       "3       1  26/02/2010            0        46.63              2.561   \n",
       "4       1  05/03/2010            0        46.50              2.625   \n",
       "\n",
       "   Indice_price_consumidor  Venta_por_semana  \n",
       "0               211.096358        1643690.90  \n",
       "1               211.242170        1641957.44  \n",
       "2               211.289143        1611968.17  \n",
       "3               211.319643        1409727.59  \n",
       "4               211.350143        1554806.68  "
      ]
     },
     "execution_count": 175,
     "metadata": {},
     "output_type": "execute_result"
    }
   ],
   "source": [
    "df=pd.read_csv('Ventas.csv')\n",
    "df.head(5)"
   ]
  },
  {
   "cell_type": "code",
   "execution_count": 176,
   "metadata": {},
   "outputs": [
    {
     "name": "stdout",
     "output_type": "stream",
     "text": [
      "-----------------------------------------------------------------\n",
      " Index(['Tienda', 'Fecha_venta', 'Dia_feriado', 'Temperatura',\n",
      "       'Costo_combustible', 'Indice_price_consumidor', 'Venta_por_semana'],\n",
      "      dtype='object')\n",
      "-----------------------------------------------------------------\n",
      " (3432, 7)\n",
      "-----------------------------------------------------------------\n",
      "             Tienda  Dia_feriado  Temperatura  Costo_combustible  \\\n",
      "count  3432.000000  3432.000000  3428.000000        3432.000000   \n",
      "mean     12.500000     0.075758    59.706683           3.337601   \n",
      "std       6.923195     0.309334    18.732981           0.489448   \n",
      "min       1.000000    -1.000000    -2.060000          -1.000000   \n",
      "25%       6.750000     0.000000    46.395000           2.910000   \n",
      "50%      12.500000     0.000000    61.965000           3.417000   \n",
      "75%      18.250000     0.000000    74.175000           3.721250   \n",
      "max      24.000000     7.000000    99.220000           4.468000   \n",
      "\n",
      "       Indice_price_consumidor  Venta_por_semana  \n",
      "count              3432.000000      3.432000e+03  \n",
      "mean                174.804676      1.222478e+06  \n",
      "std                  40.467866      6.028395e+05  \n",
      "min                  11.889674     -3.500000e+00  \n",
      "25%                 132.630000      6.872799e+05  \n",
      "50%                 189.666195      1.197625e+06  \n",
      "75%                 214.906217      1.709731e+06  \n",
      "max                 227.232807      3.818686e+06  \n",
      "<class 'pandas.core.frame.DataFrame'>\n",
      "RangeIndex: 3432 entries, 0 to 3431\n",
      "Data columns (total 7 columns):\n",
      " #   Column                   Non-Null Count  Dtype  \n",
      "---  ------                   --------------  -----  \n",
      " 0   Tienda                   3432 non-null   int64  \n",
      " 1   Fecha_venta              3432 non-null   object \n",
      " 2   Dia_feriado              3432 non-null   int64  \n",
      " 3   Temperatura              3428 non-null   float64\n",
      " 4   Costo_combustible        3432 non-null   float64\n",
      " 5   Indice_price_consumidor  3432 non-null   float64\n",
      " 6   Venta_por_semana         3432 non-null   float64\n",
      "dtypes: float64(4), int64(2), object(1)\n",
      "memory usage: 187.8+ KB\n",
      "-----------------------------------------------------------------\n",
      " None\n",
      "-----------------------------------------------------------------\n",
      " Tienda                       24\n",
      "Fecha_venta                 143\n",
      "Dia_feriado                   7\n",
      "Temperatura                2661\n",
      "Costo_combustible           832\n",
      "Indice_price_consumidor    1862\n",
      "Venta_por_semana           3432\n",
      "dtype: int64\n",
      "-----------------------------------------------------------------\n",
      " Tienda                     0\n",
      "Fecha_venta                0\n",
      "Dia_feriado                0\n",
      "Temperatura                4\n",
      "Costo_combustible          0\n",
      "Indice_price_consumidor    0\n",
      "Venta_por_semana           0\n",
      "dtype: int64\n"
     ]
    }
   ],
   "source": [
    "print(\"-----------------------------------------------------------------\\n\", df.columns)\n",
    "print(\"-----------------------------------------------------------------\\n\", df.shape)\n",
    "print(\"-----------------------------------------------------------------\\n\", df.describe())\n",
    "print(\"-----------------------------------------------------------------\\n\", df.info())\n",
    "print(\"-----------------------------------------------------------------\\n\", df.nunique())\n",
    "print(\"-----------------------------------------------------------------\\n\", df.isnull().sum())"
   ]
  },
  {
   "cell_type": "code",
   "execution_count": 177,
   "metadata": {},
   "outputs": [
    {
     "data": {
      "image/png": "[encoded data removed]",
      "text/plain": [
       "<Figure size 1440x720 with 6 Axes>"
      ]
     },
     "metadata": {
      "needs_background": "light"
     },
     "output_type": "display_data"
    }
   ],
   "source": [
    "df.hist(figsize=(20,10), edgecolor='white', color='#00afb9')\n",
    "plt.show()"
   ]
  },
  {
   "cell_type": "code",
   "execution_count": 178,
   "metadata": {},
   "outputs": [
    {
     "data": {
      "image/png": "[encoded data removed]",
      "text/plain": [
       "<Figure size 1080x504 with 1 Axes>"
      ]
     },
     "metadata": {
      "needs_background": "light"
     },
     "output_type": "display_data"
    }
   ],
   "source": [
    "plt.scatter(df['Fecha_venta'],df['Venta_por_semana'])\n",
    "plt.gcf().set_size_inches(15, 7)\n",
    "plt.show()"
   ]
  },
  {
   "cell_type": "markdown",
   "metadata": {},
   "source": [
    "<b><h1>3.\tPreparación de los datos </h1></b>"
   ]
  },
  {
   "cell_type": "code",
   "execution_count": 179,
   "metadata": {},
   "outputs": [
    {
     "name": "stdout",
     "output_type": "stream",
     "text": [
      "<class 'pandas.core.frame.DataFrame'>\n",
      "RangeIndex: 3432 entries, 0 to 3431\n",
      "Data columns (total 7 columns):\n",
      " #   Column                   Non-Null Count  Dtype         \n",
      "---  ------                   --------------  -----         \n",
      " 0   Tienda                   3432 non-null   int64         \n",
      " 1   Fecha_venta              3432 non-null   datetime64[ns]\n",
      " 2   Dia_feriado              3432 non-null   int64         \n",
      " 3   Temperatura              3428 non-null   float64       \n",
      " 4   Costo_combustible        3432 non-null   float64       \n",
      " 5   Indice_price_consumidor  3432 non-null   float64       \n",
      " 6   Venta_por_semana         3432 non-null   float64       \n",
      "dtypes: datetime64[ns](1), float64(4), int64(2)\n",
      "memory usage: 187.8 KB\n"
     ]
    }
   ],
   "source": [
    "df['Fecha_venta'] = df['Fecha_venta'].map(lambda x: datetime.strptime(x,'%d/%m/%Y'))\n",
    "df.info()"
   ]
  },
  {
   "cell_type": "code",
   "execution_count": 180,
   "metadata": {},
   "outputs": [
    {
     "name": "stdout",
     "output_type": "stream",
     "text": [
      "Tienda                     0\n",
      "Fecha_venta                0\n",
      "Dia_feriado                0\n",
      "Temperatura                0\n",
      "Costo_combustible          0\n",
      "Indice_price_consumidor    0\n",
      "Venta_por_semana           0\n",
      "dtype: int64\n",
      "<class 'pandas.core.frame.DataFrame'>\n",
      "Int64Index: 3428 entries, 0 to 3431\n",
      "Data columns (total 7 columns):\n",
      " #   Column                   Non-Null Count  Dtype         \n",
      "---  ------                   --------------  -----         \n",
      " 0   Tienda                   3428 non-null   int64         \n",
      " 1   Fecha_venta              3428 non-null   datetime64[ns]\n",
      " 2   Dia_feriado              3428 non-null   int64         \n",
      " 3   Temperatura              3428 non-null   float64       \n",
      " 4   Costo_combustible        3428 non-null   float64       \n",
      " 5   Indice_price_consumidor  3428 non-null   float64       \n",
      " 6   Venta_por_semana         3428 non-null   float64       \n",
      "dtypes: datetime64[ns](1), float64(4), int64(2)\n",
      "memory usage: 214.2 KB\n",
      "None\n"
     ]
    }
   ],
   "source": [
    "df=df.dropna()\n",
    "print(df.isnull().sum())\n",
    "print(df.info())\n",
    "df.reset_index(inplace=True, drop=True)"
   ]
  },
  {
   "cell_type": "code",
   "execution_count": 181,
   "metadata": {},
   "outputs": [
    {
     "data": {
      "text/html": [
       "<div>\n",
       "<style scoped>\n",
       "    .dataframe tbody tr th:only-of-type {\n",
       "        vertical-align: middle;\n",
       "    }\n",
       "\n",
       "    .dataframe tbody tr th {\n",
       "        vertical-align: top;\n",
       "    }\n",
       "\n",
       "    .dataframe thead th {\n",
       "        text-align: right;\n",
       "    }\n",
       "</style>\n",
       "<table border=\"1\" class=\"dataframe\">\n",
       "  <thead>\n",
       "    <tr style=\"text-align: right;\">\n",
       "      <th></th>\n",
       "      <th>Tienda</th>\n",
       "      <th>Fecha_venta</th>\n",
       "      <th>Dia_feriado</th>\n",
       "      <th>Temperatura</th>\n",
       "      <th>Costo_combustible</th>\n",
       "      <th>Indice_price_consumidor</th>\n",
       "      <th>Venta_por_semana</th>\n",
       "      <th>Año</th>\n",
       "      <th>mes</th>\n",
       "      <th>dia</th>\n",
       "    </tr>\n",
       "  </thead>\n",
       "  <tbody>\n",
       "    <tr>\n",
       "      <th>0</th>\n",
       "      <td>1</td>\n",
       "      <td>2010-02-05</td>\n",
       "      <td>0</td>\n",
       "      <td>42.31</td>\n",
       "      <td>2.572</td>\n",
       "      <td>211.096358</td>\n",
       "      <td>1643690.90</td>\n",
       "      <td>2010</td>\n",
       "      <td>2</td>\n",
       "      <td>5</td>\n",
       "    </tr>\n",
       "    <tr>\n",
       "      <th>1</th>\n",
       "      <td>1</td>\n",
       "      <td>2010-02-12</td>\n",
       "      <td>1</td>\n",
       "      <td>38.51</td>\n",
       "      <td>2.548</td>\n",
       "      <td>211.242170</td>\n",
       "      <td>1641957.44</td>\n",
       "      <td>2010</td>\n",
       "      <td>2</td>\n",
       "      <td>12</td>\n",
       "    </tr>\n",
       "    <tr>\n",
       "      <th>2</th>\n",
       "      <td>1</td>\n",
       "      <td>2010-02-19</td>\n",
       "      <td>0</td>\n",
       "      <td>39.93</td>\n",
       "      <td>2.514</td>\n",
       "      <td>211.289143</td>\n",
       "      <td>1611968.17</td>\n",
       "      <td>2010</td>\n",
       "      <td>2</td>\n",
       "      <td>19</td>\n",
       "    </tr>\n",
       "    <tr>\n",
       "      <th>3</th>\n",
       "      <td>1</td>\n",
       "      <td>2010-02-26</td>\n",
       "      <td>0</td>\n",
       "      <td>46.63</td>\n",
       "      <td>2.561</td>\n",
       "      <td>211.319643</td>\n",
       "      <td>1409727.59</td>\n",
       "      <td>2010</td>\n",
       "      <td>2</td>\n",
       "      <td>26</td>\n",
       "    </tr>\n",
       "    <tr>\n",
       "      <th>4</th>\n",
       "      <td>1</td>\n",
       "      <td>2010-03-05</td>\n",
       "      <td>0</td>\n",
       "      <td>46.50</td>\n",
       "      <td>2.625</td>\n",
       "      <td>211.350143</td>\n",
       "      <td>1554806.68</td>\n",
       "      <td>2010</td>\n",
       "      <td>3</td>\n",
       "      <td>5</td>\n",
       "    </tr>\n",
       "  </tbody>\n",
       "</table>\n",
       "</div>"
      ],
      "text/plain": [
       "   Tienda Fecha_venta  Dia_feriado  Temperatura  Costo_combustible  \\\n",
       "0       1  2010-02-05            0        42.31              2.572   \n",
       "1       1  2010-02-12            1        38.51              2.548   \n",
       "2       1  2010-02-19            0        39.93              2.514   \n",
       "3       1  2010-02-26            0        46.63              2.561   \n",
       "4       1  2010-03-05            0        46.50              2.625   \n",
       "\n",
       "   Indice_price_consumidor  Venta_por_semana   Año  mes  dia  \n",
       "0               211.096358        1643690.90  2010    2    5  \n",
       "1               211.242170        1641957.44  2010    2   12  \n",
       "2               211.289143        1611968.17  2010    2   19  \n",
       "3               211.319643        1409727.59  2010    2   26  \n",
       "4               211.350143        1554806.68  2010    3    5  "
      ]
     },
     "execution_count": 181,
     "metadata": {},
     "output_type": "execute_result"
    }
   ],
   "source": [
    "df['Año'] = df['Fecha_venta'].dt.year \n",
    "df['mes'] = df['Fecha_venta'].dt.month \n",
    "df['dia'] = df['Fecha_venta'].dt.day \n",
    "\n",
    "df.head()"
   ]
  },
  {
   "cell_type": "markdown",
   "metadata": {},
   "source": [
    "<b><h1>4.\tModelado:  </h1></b>"
   ]
  },
  {
   "cell_type": "code",
   "execution_count": 182,
   "metadata": {},
   "outputs": [
    {
     "data": {
      "text/html": [
       "<div>\n",
       "<style scoped>\n",
       "    .dataframe tbody tr th:only-of-type {\n",
       "        vertical-align: middle;\n",
       "    }\n",
       "\n",
       "    .dataframe tbody tr th {\n",
       "        vertical-align: top;\n",
       "    }\n",
       "\n",
       "    .dataframe thead th {\n",
       "        text-align: right;\n",
       "    }\n",
       "</style>\n",
       "<table border=\"1\" class=\"dataframe\">\n",
       "  <thead>\n",
       "    <tr style=\"text-align: right;\">\n",
       "      <th></th>\n",
       "      <th>Tienda</th>\n",
       "      <th>Dia_feriado</th>\n",
       "      <th>Temperatura</th>\n",
       "      <th>Costo_combustible</th>\n",
       "      <th>Indice_price_consumidor</th>\n",
       "      <th>Venta_por_semana</th>\n",
       "      <th>Año</th>\n",
       "      <th>mes</th>\n",
       "      <th>dia</th>\n",
       "    </tr>\n",
       "  </thead>\n",
       "  <tbody>\n",
       "    <tr>\n",
       "      <th>Tienda</th>\n",
       "      <td>1.000000</td>\n",
       "      <td>-0.007753</td>\n",
       "      <td>-0.274476</td>\n",
       "      <td>0.207559</td>\n",
       "      <td>-0.381578</td>\n",
       "      <td>0.028634</td>\n",
       "      <td>0.001244</td>\n",
       "      <td>0.000172</td>\n",
       "      <td>0.000021</td>\n",
       "    </tr>\n",
       "    <tr>\n",
       "      <th>Dia_feriado</th>\n",
       "      <td>-0.007753</td>\n",
       "      <td>1.000000</td>\n",
       "      <td>-0.134155</td>\n",
       "      <td>-0.079435</td>\n",
       "      <td>0.003341</td>\n",
       "      <td>0.036051</td>\n",
       "      <td>-0.057829</td>\n",
       "      <td>0.113736</td>\n",
       "      <td>0.044533</td>\n",
       "    </tr>\n",
       "    <tr>\n",
       "      <th>Temperatura</th>\n",
       "      <td>-0.274476</td>\n",
       "      <td>-0.134155</td>\n",
       "      <td>1.000000</td>\n",
       "      <td>0.106376</td>\n",
       "      <td>0.247543</td>\n",
       "      <td>0.018615</td>\n",
       "      <td>0.065244</td>\n",
       "      <td>0.239605</td>\n",
       "      <td>0.026247</td>\n",
       "    </tr>\n",
       "    <tr>\n",
       "      <th>Costo_combustible</th>\n",
       "      <td>0.207559</td>\n",
       "      <td>-0.079435</td>\n",
       "      <td>0.106376</td>\n",
       "      <td>1.000000</td>\n",
       "      <td>-0.023190</td>\n",
       "      <td>0.057065</td>\n",
       "      <td>0.755134</td>\n",
       "      <td>-0.046990</td>\n",
       "      <td>0.032651</td>\n",
       "    </tr>\n",
       "    <tr>\n",
       "      <th>Indice_price_consumidor</th>\n",
       "      <td>-0.381578</td>\n",
       "      <td>0.003341</td>\n",
       "      <td>0.247543</td>\n",
       "      <td>-0.023190</td>\n",
       "      <td>1.000000</td>\n",
       "      <td>-0.294626</td>\n",
       "      <td>0.242270</td>\n",
       "      <td>0.019849</td>\n",
       "      <td>0.009973</td>\n",
       "    </tr>\n",
       "    <tr>\n",
       "      <th>Venta_por_semana</th>\n",
       "      <td>0.028634</td>\n",
       "      <td>0.036051</td>\n",
       "      <td>0.018615</td>\n",
       "      <td>0.057065</td>\n",
       "      <td>-0.294626</td>\n",
       "      <td>1.000000</td>\n",
       "      <td>-0.012413</td>\n",
       "      <td>0.062287</td>\n",
       "      <td>-0.029186</td>\n",
       "    </tr>\n",
       "    <tr>\n",
       "      <th>Año</th>\n",
       "      <td>0.001244</td>\n",
       "      <td>-0.057829</td>\n",
       "      <td>0.065244</td>\n",
       "      <td>0.755134</td>\n",
       "      <td>0.242270</td>\n",
       "      <td>-0.012413</td>\n",
       "      <td>1.000000</td>\n",
       "      <td>-0.188058</td>\n",
       "      <td>0.006755</td>\n",
       "    </tr>\n",
       "    <tr>\n",
       "      <th>mes</th>\n",
       "      <td>0.000172</td>\n",
       "      <td>0.113736</td>\n",
       "      <td>0.239605</td>\n",
       "      <td>-0.046990</td>\n",
       "      <td>0.019849</td>\n",
       "      <td>0.062287</td>\n",
       "      <td>-0.188058</td>\n",
       "      <td>1.000000</td>\n",
       "      <td>0.014051</td>\n",
       "    </tr>\n",
       "    <tr>\n",
       "      <th>dia</th>\n",
       "      <td>0.000021</td>\n",
       "      <td>0.044533</td>\n",
       "      <td>0.026247</td>\n",
       "      <td>0.032651</td>\n",
       "      <td>0.009973</td>\n",
       "      <td>-0.029186</td>\n",
       "      <td>0.006755</td>\n",
       "      <td>0.014051</td>\n",
       "      <td>1.000000</td>\n",
       "    </tr>\n",
       "  </tbody>\n",
       "</table>\n",
       "</div>"
      ],
      "text/plain": [
       "                           Tienda  Dia_feriado  Temperatura  \\\n",
       "Tienda                   1.000000    -0.007753    -0.274476   \n",
       "Dia_feriado             -0.007753     1.000000    -0.134155   \n",
       "Temperatura             -0.274476    -0.134155     1.000000   \n",
       "Costo_combustible        0.207559    -0.079435     0.106376   \n",
       "Indice_price_consumidor -0.381578     0.003341     0.247543   \n",
       "Venta_por_semana         0.028634     0.036051     0.018615   \n",
       "Año                      0.001244    -0.057829     0.065244   \n",
       "mes                      0.000172     0.113736     0.239605   \n",
       "dia                      0.000021     0.044533     0.026247   \n",
       "\n",
       "                         Costo_combustible  Indice_price_consumidor  \\\n",
       "Tienda                            0.207559                -0.381578   \n",
       "Dia_feriado                      -0.079435                 0.003341   \n",
       "Temperatura                       0.106376                 0.247543   \n",
       "Costo_combustible                 1.000000                -0.023190   \n",
       "Indice_price_consumidor          -0.023190                 1.000000   \n",
       "Venta_por_semana                  0.057065                -0.294626   \n",
       "Año                               0.755134                 0.242270   \n",
       "mes                              -0.046990                 0.019849   \n",
       "dia                               0.032651                 0.009973   \n",
       "\n",
       "                         Venta_por_semana       Año       mes       dia  \n",
       "Tienda                           0.028634  0.001244  0.000172  0.000021  \n",
       "Dia_feriado                      0.036051 -0.057829  0.113736  0.044533  \n",
       "Temperatura                      0.018615  0.065244  0.239605  0.026247  \n",
       "Costo_combustible                0.057065  0.755134 -0.046990  0.032651  \n",
       "Indice_price_consumidor         -0.294626  0.242270  0.019849  0.009973  \n",
       "Venta_por_semana                 1.000000 -0.012413  0.062287 -0.029186  \n",
       "Año                             -0.012413  1.000000 -0.188058  0.006755  \n",
       "mes                              0.062287 -0.188058  1.000000  0.014051  \n",
       "dia                             -0.029186  0.006755  0.014051  1.000000  "
      ]
     },
     "execution_count": 182,
     "metadata": {},
     "output_type": "execute_result"
    }
   ],
   "source": [
    "corr=df.corr(method='spearman')\n",
    "corr"
   ]
  },
  {
   "cell_type": "code",
   "execution_count": 183,
   "metadata": {},
   "outputs": [
    {
     "name": "stdout",
     "output_type": "stream",
     "text": [
      "Coeficiente de correlación de Pearson:  -0.016435214946910828\n",
      "P-value:  0.33605891037097835\n"
     ]
    }
   ],
   "source": [
    "corr_test = pearsonr(x = df['dia'], y =  df['Venta_por_semana'])\n",
    "print(\"Coeficiente de correlación de Pearson: \", corr_test[0])\n",
    "print(\"P-value: \", corr_test[1])"
   ]
  },
  {
   "cell_type": "code",
   "execution_count": 184,
   "metadata": {},
   "outputs": [],
   "source": [
    "import scipy.optimize as opt\n",
    "import matplotlib.pyplot as plt\n",
    "from sklearn import preprocessing \n",
    "import pylab as pl\n",
    "%matplotlib inline "
   ]
  },
  {
   "cell_type": "code",
   "execution_count": 188,
   "metadata": {},
   "outputs": [
    {
     "data": {
      "text/plain": [
       "Index(['Tienda', 'Fecha_venta', 'Dia_feriado', 'Temperatura',\n",
       "       'Costo_combustible', 'Indice_price_consumidor', 'Venta_por_semana',\n",
       "       'Año', 'mes', 'dia'],\n",
       "      dtype='object')"
      ]
     },
     "execution_count": 188,
     "metadata": {},
     "output_type": "execute_result"
    }
   ],
   "source": [
    "df.columns"
   ]
  },
  {
   "cell_type": "code",
   "execution_count": 192,
   "metadata": {},
   "outputs": [],
   "source": [
    "X = np.asarray(df[['Tienda','Dia_feriado', 'Temperatura',\n",
    "                   'Costo_combustible', 'Indice_price_consumidor', 'Venta_por_semana']])"
   ]
  },
  {
   "cell_type": "code",
   "execution_count": 191,
   "metadata": {},
   "outputs": [],
   "source": [
    "y= np.asarray(df['dia'])"
   ]
  },
  {
   "cell_type": "code",
   "execution_count": 194,
   "metadata": {},
   "outputs": [],
   "source": [
    "from sklearn import preprocessing"
   ]
  },
  {
   "cell_type": "code",
   "execution_count": 195,
   "metadata": {},
   "outputs": [],
   "source": [
    "X = preprocessing.StandardScaler().fit(X).transform(X)"
   ]
  },
  {
   "cell_type": "code",
   "execution_count": 196,
   "metadata": {},
   "outputs": [],
   "source": [
    "from sklearn.model_selection import train_test_split"
   ]
  },
  {
   "cell_type": "code",
   "execution_count": 197,
   "metadata": {},
   "outputs": [
    {
     "name": "stdout",
     "output_type": "stream",
     "text": [
      "Train set: (2742, 6) (2742,)\n",
      "Test set: (686, 6) (686,)\n"
     ]
    }
   ],
   "source": [
    "X_train, X_test, y_train, y_test = train_test_split( X, y, test_size=0.2, random_state=42)\n",
    "print ('Train set:', X_train.shape,  y_train.shape)\n",
    "print ('Test set:', X_test.shape,  y_test.shape)"
   ]
  },
  {
   "cell_type": "code",
   "execution_count": 198,
   "metadata": {},
   "outputs": [],
   "source": [
    "from sklearn.linear_model import LogisticRegression\n",
    "LR = LogisticRegression(C=0.01, solver='liblinear')\n",
    "LR.fit(X_train,y_train)\n",
    "yhat = LR.predict(X_test)\n"
   ]
  },
  {
   "cell_type": "code",
   "execution_count": 200,
   "metadata": {},
   "outputs": [],
   "source": [
    "yhat_prob = LR.predict_proba(X_test)"
   ]
  },
  {
   "cell_type": "markdown",
   "metadata": {},
   "source": [
    "<b><h1>5.\tEvaluación  </h1></b>\n"
   ]
  },
  {
   "cell_type": "code",
   "execution_count": 204,
   "metadata": {},
   "outputs": [
    {
     "name": "stdout",
     "output_type": "stream",
     "text": [
      "              precision    recall  f1-score   support\n",
      "\n",
      "           1       0.00      0.00      0.00        18\n",
      "           2       0.00      0.00      0.00        31\n",
      "           3       0.07      0.11      0.09        28\n",
      "           4       0.09      0.30      0.14        23\n",
      "           5       0.04      0.04      0.04        24\n",
      "           6       0.02      0.19      0.04        16\n",
      "           7       0.00      0.00      0.00        20\n",
      "           8       0.00      0.00      0.00        22\n",
      "           9       0.00      0.00      0.00        22\n",
      "          10       0.27      0.41      0.32        27\n",
      "          11       1.00      0.11      0.20        18\n",
      "          12       0.00      0.00      0.00        21\n",
      "          13       0.03      0.08      0.04        24\n",
      "          14       0.00      0.00      0.00        29\n",
      "          15       0.00      0.00      0.00        24\n",
      "          16       0.07      0.05      0.06        21\n",
      "          17       0.00      0.00      0.00        31\n",
      "          18       0.00      0.00      0.00        24\n",
      "          19       0.04      0.23      0.07        22\n",
      "          20       0.00      0.00      0.00        27\n",
      "          21       0.00      0.00      0.00        14\n",
      "          22       0.00      0.00      0.00        17\n",
      "          23       0.00      0.00      0.00        24\n",
      "          24       0.02      0.04      0.03        26\n",
      "          25       0.00      0.00      0.00        18\n",
      "          26       0.00      0.00      0.00        18\n",
      "          27       0.00      0.00      0.00        25\n",
      "          28       0.00      0.00      0.00        21\n",
      "          29       0.04      0.23      0.07        13\n",
      "          30       0.00      0.00      0.00        27\n",
      "          31       0.00      0.00      0.00        11\n",
      "\n",
      "    accuracy                           0.06       686\n",
      "   macro avg       0.05      0.06      0.04       686\n",
      "weighted avg       0.05      0.06      0.04       686\n",
      "\n"
     ]
    },
    {
     "name": "stderr",
     "output_type": "stream",
     "text": [
      "C:\\Users\\MARELLY\\anaconda3\\lib\\site-packages\\sklearn\\metrics\\_classification.py:1221: UndefinedMetricWarning: Precision and F-score are ill-defined and being set to 0.0 in labels with no predicted samples. Use `zero_division` parameter to control this behavior.\n",
      "  _warn_prf(average, modifier, msg_start, len(result))\n"
     ]
    }
   ],
   "source": [
    "from sklearn.metrics import classification_report\n",
    "print (classification_report(y_test, yhat))"
   ]
  },
  {
   "cell_type": "code",
   "execution_count": 205,
   "metadata": {},
   "outputs": [
    {
     "data": {
      "text/plain": [
       "3.3956923503377223"
      ]
     },
     "execution_count": 205,
     "metadata": {},
     "output_type": "execute_result"
    }
   ],
   "source": [
    "from sklearn.metrics import log_loss\n",
    "log_loss(y_test, yhat_prob)"
   ]
  }
 ],
 "metadata": {
  "kernelspec": {
   "display_name": "Python 3",
   "language": "python",
   "name": "python3"
  },
  "language_info": {
   "codemirror_mode": {
    "name": "ipython",
    "version": 3
   },
   "file_extension": ".py",
   "mimetype": "text/x-python",
   "name": "python",
   "nbconvert_exporter": "python",
   "pygments_lexer": "ipython3",
   "version": "3.8.3"
  }
 },
 "nbformat": 4,
 "nbformat_minor": 4
}
